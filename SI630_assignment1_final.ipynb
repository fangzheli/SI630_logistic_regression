{
 "cells": [
  {
   "cell_type": "code",
   "execution_count": 1,
   "id": "30e5fb97-b3b2-4179-81d3-929af75c9870",
   "metadata": {},
   "outputs": [],
   "source": [
    "import csv\n",
    "from collections import Counter\n",
    "from itertools import dropwhile\n",
    "from scipy.sparse import dok_matrix\n",
    "import scipy.sparse\n",
    "import numpy as np\n",
    "import pandas as pd\n",
    "%matplotlib inline\n",
    "import math\n",
    "import os\n",
    "import re\n",
    "import random\n",
    "import matplotlib.pyplot as plt\n",
    "import scipy\n",
    "import torch\n",
    "import torch.nn as nn\n",
    "import torch.optim\n",
    "from tqdm import tqdm\n",
    "from sklearn.metrics import f1_score"
   ]
  },
  {
   "cell_type": "code",
   "execution_count": 2,
   "id": "67b6cedc-7c23-41ed-af69-5b8301f5d6eb",
   "metadata": {},
   "outputs": [],
   "source": [
    "party_affiliation_dict = {\"Democratic Party\": 0, \"Republican Party\": 1}\n",
    "def get_party_id(name):\n",
    "    return party_affiliation_dict[name]\n",
    "party_name_dict = {str(value): key for key,value in party_affiliation_dict.items()}\n",
    "def get_party_name1(id):\n",
    "    return party_name_dict[str(int(id))]\n",
    "def get_party_name(id):\n",
    "    return party_name_dict[str(int(id[0]))]"
   ]
  },
  {
   "cell_type": "code",
   "execution_count": 3,
   "id": "63ea687e-1a8a-437c-9785-ed5582d75a87",
   "metadata": {},
   "outputs": [],
   "source": [
    "def tokenize(sentence):\n",
    "    return sentence.split(\" \")"
   ]
  },
  {
   "cell_type": "code",
   "execution_count": 4,
   "id": "ca93f888-0b9e-457c-8758-f9e539b3dab9",
   "metadata": {},
   "outputs": [],
   "source": [
    "def better_tokenize(sentence):\n",
    "    word_list = re.findall(\"[a-zA-z]+\", sentence)\n",
    "    return [word.lower() for word in word_list]"
   ]
  },
  {
   "cell_type": "code",
   "execution_count": 5,
   "id": "3851cb6f-1fda-4452-9a51-34773cfee7c5",
   "metadata": {},
   "outputs": [],
   "source": [
    "def sigmoid(x):\n",
    "    return 1/(1+ math.exp(-x))"
   ]
  },
  {
   "cell_type": "code",
   "execution_count": 6,
   "id": "afef2826-5bc2-4d01-80f4-3de3cdf9fb16",
   "metadata": {},
   "outputs": [
    {
     "data": {
      "text/plain": [
       "<59999x12360 sparse matrix of type '<class 'numpy.float32'>'\n",
       "\twith 9927415 stored elements in Dictionary Of Keys format>"
      ]
     },
     "metadata": {},
     "output_type": "display_data"
    }
   ],
   "source": [
    "def build_term_document_matrix(file_path):\n",
    "    raw_words_counter= Counter()\n",
    "    train_data = pd.read_csv(file_path)\n",
    "    train_data.head()\n",
    "    train_data['party_affiliation'] = train_data['party_affiliation'].apply(get_party_id)\n",
    "    train_data['email_text'] = train_data['email_text'].apply(better_tokenize)\n",
    "    train_data.head()\n",
    "    for _list in train_data['email_text']:\n",
    "        for word in _list:\n",
    "            raw_words_counter[word] += 1\n",
    "    filtered_word_counter = Counter({word: count for word, count in raw_words_counter.items() if count >= 10})\n",
    "    frequent10_words_list = list(filtered_word_counter.keys())\n",
    "    term_document_matrix = dok_matrix((len(train_data), len(frequent10_words_list)), dtype=np.float32)\n",
    "    row_index = 0\n",
    "    for _list in train_data['email_text']:\n",
    "        row_counter = Counter()\n",
    "        for word in _list:\n",
    "            if word in frequent10_words_list:\n",
    "                row_counter[word] += 1\n",
    "        for word, count in row_counter.items():\n",
    "            term_document_matrix[row_index, frequent10_words_list.index(word)] = count\n",
    "        row_index += 1\n",
    "    display(term_document_matrix)\n",
    "    y_truth = train_data['party_affiliation'].to_numpy()\n",
    "    return term_document_matrix, y_truth, frequent10_words_list\n",
    "training_term_document_matrix, y_truth, frequent10_words_list = build_term_document_matrix('train.csv')"
   ]
  },
  {
   "cell_type": "code",
   "execution_count": 7,
   "id": "3bd59872-8f7b-407c-bc56-da41405c1472",
   "metadata": {},
   "outputs": [],
   "source": [
    "training_term_document_matrix = training_term_document_matrix.asformat('csr')\n",
    "scipy.sparse.save_npz('training_matrix.npz', training_term_document_matrix)"
   ]
  },
  {
   "cell_type": "code",
   "execution_count": 8,
   "id": "01cc2410-166e-408d-8a81-03e7892fbf32",
   "metadata": {},
   "outputs": [],
   "source": [
    "training_term_document_matrix = scipy.sparse.load_npz('training_matrix.npz')"
   ]
  },
  {
   "cell_type": "code",
   "execution_count": 9,
   "id": "510495cb-0625-4956-a384-a92d57431dae",
   "metadata": {},
   "outputs": [],
   "source": [
    "def log_likelihood(x, parameter, y_truth):\n",
    "    # x is a (D * V) matrix\n",
    "    # parameter is a (V * 1) matrix\n",
    "    # y_truth is a (D * 1) matrix\n",
    "    ll = 0\n",
    "    for i in range(x.shape[0]):\n",
    "        ll += y_truth[i] * (x[i,:].dot(parameter)).transpose() - np.log(1 + np.exp((x[i,:].dot(parameter)).transpose()))\n",
    "    return ll"
   ]
  },
  {
   "cell_type": "code",
   "execution_count": 10,
   "id": "2c6b6b14-5431-4665-a440-2d477b4461d8",
   "metadata": {},
   "outputs": [],
   "source": [
    "def compute_gradient(x, parameter, y_truth):\n",
    "    # this is for stochastic gradient descent\n",
    "    # x is one row of big x\n",
    "    # y_truth is a row of y_truth\n",
    "    delta_parameter = (sigmoid(x.dot(parameter)) - y_truth) * np.transpose(x)\n",
    "    return delta_parameter"
   ]
  },
  {
   "cell_type": "code",
   "execution_count": 11,
   "id": "e8a028e1-042d-4d6c-b17b-3148e01bf45d",
   "metadata": {},
   "outputs": [
    {
     "data": {
      "text/plain": [
       "(12361, 1)"
      ]
     },
     "metadata": {},
     "output_type": "display_data"
    },
    {
     "data": {
      "text/plain": [
       "2"
      ]
     },
     "metadata": {},
     "output_type": "display_data"
    },
    {
     "data": {
      "text/plain": [
       "2"
      ]
     },
     "metadata": {},
     "output_type": "display_data"
    },
    {
     "data": {
      "text/plain": [
       "(59999, 12361)"
      ]
     },
     "metadata": {},
     "output_type": "display_data"
    }
   ],
   "source": [
    "# add bias column to training_x\n",
    "x = training_term_document_matrix\n",
    "row, column = x.shape\n",
    "# bias\n",
    "parameters = np.zeros((column + 1, 1))\n",
    "display(parameters.shape)\n",
    "bias_column = dok_matrix([[1] for i in range(row)])\n",
    "display(bias_column.ndim)\n",
    "# bias_column = bias_column[:, np.newaxis]\n",
    "# display(bias_column.ndim)\n",
    "display(x.ndim)\n",
    "x = scipy.sparse.hstack([x, bias_column], \"csr\")\n",
    "display(x.shape)"
   ]
  },
  {
   "cell_type": "code",
   "execution_count": 13,
   "id": "024f2788-217e-4e78-be53-bbc66e650137",
   "metadata": {},
   "outputs": [
    {
     "data": {
      "text/plain": [
       "0"
      ]
     },
     "metadata": {},
     "output_type": "display_data"
    },
    {
     "data": {
      "text/plain": [
       "100"
      ]
     },
     "metadata": {},
     "output_type": "display_data"
    },
    {
     "data": {
      "text/plain": [
       "200"
      ]
     },
     "metadata": {},
     "output_type": "display_data"
    },
    {
     "data": {
      "text/plain": [
       "300"
      ]
     },
     "metadata": {},
     "output_type": "display_data"
    },
    {
     "data": {
      "text/plain": [
       "400"
      ]
     },
     "metadata": {},
     "output_type": "display_data"
    },
    {
     "data": {
      "text/plain": [
       "500"
      ]
     },
     "metadata": {},
     "output_type": "display_data"
    },
    {
     "data": {
      "text/plain": [
       "600"
      ]
     },
     "metadata": {},
     "output_type": "display_data"
    },
    {
     "data": {
      "text/plain": [
       "700"
      ]
     },
     "metadata": {},
     "output_type": "display_data"
    },
    {
     "data": {
      "text/plain": [
       "800"
      ]
     },
     "metadata": {},
     "output_type": "display_data"
    },
    {
     "data": {
      "text/plain": [
       "900"
      ]
     },
     "metadata": {},
     "output_type": "display_data"
    },
    {
     "data": {
      "image/png": "[encoded data removed]",
      "text/plain": [
       "<Figure size 1008x432 with 1 Axes>"
      ]
     },
     "metadata": {
      "needs_background": "light"
     },
     "output_type": "display_data"
    }
   ],
   "source": [
    "# training and plotting\n",
    "# ploting part refers to \n",
    "# https://towardsdatascience.com/understand-implement-logistic-regression-in-python-c1e1a329f460 by Do Lee\n",
    "def logistic_regression(x, y_truth, parameters):\n",
    "    learning_rate = 5e-5\n",
    "    epoch_length = 100\n",
    "    num_step = 1000\n",
    "    log_likelihood_epoch = []\n",
    "    for i in range(num_step):\n",
    "        r = random.choice(range(row))\n",
    "        parameters -= learning_rate * compute_gradient(x[r, :], parameters, y_truth[r])\n",
    "        if i % epoch_length == 0:\n",
    "            log_likelihood_epoch.append(log_likelihood(x, parameters, y_truth)[0,0])\n",
    "            display(i)\n",
    "    x_axis = [i for i in range(1, len(log_likelihood_epoch) + 1)]\n",
    "    plt.figure(figsize=(14,6))\n",
    "    plt.title('Maximizing Log-Likelihood')\n",
    "    plt.xticks(x_axis)\n",
    "    plt.xlabel('epoch iteration')\n",
    "    plt.ylabel('log-likelihood')\n",
    "    plt.plot(x_axis, log_likelihood_epoch, marker='o')\n",
    "    plt.tight_layout()\n",
    "    return parameters\n",
    "parameters = logistic_regression(x, y_truth, parameters)"
   ]
  },
  {
   "cell_type": "code",
   "execution_count": 14,
   "id": "05fb2bc8-efcc-4751-b01a-f4eaba633f8b",
   "metadata": {},
   "outputs": [
    {
     "data": {
      "text/plain": [
       "(20000, 1)"
      ]
     },
     "metadata": {},
     "output_type": "display_data"
    },
    {
     "data": {
      "text/plain": [
       "(20000, 12360)"
      ]
     },
     "metadata": {},
     "output_type": "display_data"
    },
    {
     "data": {
      "text/plain": [
       "(20000, 12361)"
      ]
     },
     "metadata": {},
     "output_type": "display_data"
    }
   ],
   "source": [
    "# validation\n",
    "validation_data = pd.read_csv('dev.csv')\n",
    "validation_data['party_affiliation'] = validation_data['party_affiliation'].apply(get_party_id)\n",
    "validation_data['email_text'] = validation_data['email_text'].apply(better_tokenize)\n",
    "term_document_matrix = dok_matrix((len(validation_data), len(frequent10_words_list)), dtype=np.float32)\n",
    "row_index = 0\n",
    "for _list in validation_data['email_text']:\n",
    "    row_counter = Counter()\n",
    "    for word in _list:\n",
    "        if word in frequent10_words_list:\n",
    "            row_counter[word] += 1\n",
    "    for word, count in row_counter.items():\n",
    "        term_document_matrix[row_index, frequent10_words_list.index(word)] = count\n",
    "    row_index += 1\n",
    "# bias\n",
    "bias_column = dok_matrix([[1] for i in range(len(validation_data))])\n",
    "display(bias_column.shape)\n",
    "display(term_document_matrix.shape)\n",
    "validation_term_document_matrix = term_document_matrix.asformat('csr')\n",
    "scipy.sparse.save_npz('dev_matrix.npz', validation_term_document_matrix)\n",
    "term_document_matrix = scipy.sparse.hstack([validation_term_document_matrix, bias_column], \"csr\")\n",
    "display(term_document_matrix.shape)"
   ]
  },
  {
   "cell_type": "code",
   "execution_count": null,
   "id": "a64b4fff-91c0-4e2b-9d27-58c05dd1f3d6",
   "metadata": {},
   "outputs": [],
   "source": [
    "# parameters = np.loadtxt('parameters_100000.txt')"
   ]
  },
  {
   "cell_type": "code",
   "execution_count": 15,
   "id": "ede599b7-140e-45d0-8d81-df1d4e0f2311",
   "metadata": {},
   "outputs": [
    {
     "data": {
      "text/plain": [
       "0.0"
      ]
     },
     "execution_count": 15,
     "metadata": {},
     "output_type": "execute_result"
    }
   ],
   "source": [
    "term_document_matrix = scipy.sparse.load_npz('dev_matrix.npz')\n",
    "term_document_matrix = scipy.sparse.hstack([term_document_matrix, bias_column], \"csr\")\n",
    "prediction_y = np.around(1/(1+ np.exp(-term_document_matrix.dot(parameters))))\n",
    "validate_truth_y = validation_data['party_affiliation'].values.reshape((len(validation_data), 1))\n",
    "# difference = np.sum(np.absolute(prediction_y - validation_data['party_affiliation'].values.reshape((len(validation_data), 1))))\n",
    "# difference\n",
    "f1_score(validate_truth_y, prediction_y)"
   ]
  },
  {
   "cell_type": "code",
   "execution_count": 16,
   "id": "b67c7c50-ca25-4377-bf6d-85d7a908b51b",
   "metadata": {},
   "outputs": [],
   "source": [
    "def predict(parameters, string, word_list):\n",
    "    '''\n",
    "    parameters: beta\n",
    "    string: text to be predicted\n",
    "    word_list: the list of words which has frequency >=10\n",
    "    '''\n",
    "    term_document_list = []\n",
    "    words = better_tokenize(string)\n",
    "    counter = Counter(words)\n",
    "    predict_x= np.zeros((1, len(word_list)))\n",
    "    bias_column = np.ones((1, 1))\n",
    "    predict_x = np.concatenate((predict_x, bias_column), axis=1)\n",
    "    for k, c in counter.items():\n",
    "        if k in word_list:\n",
    "            predict_x[0, word_list.index(k)] = c\n",
    "    if 1/(1+ np.exp(-predict_x * parameters))[0,0] < 0.5:\n",
    "        label = get_party_name1(0)\n",
    "    else:\n",
    "        label = get_party_name1(1)\n",
    "    return label"
   ]
  },
  {
   "cell_type": "code",
   "execution_count": 17,
   "id": "ae8aba22-2528-4da7-b3bb-571602ad65da",
   "metadata": {},
   "outputs": [
    {
     "data": {
      "text/plain": [
       "'Democratic Party'"
      ]
     },
     "execution_count": 17,
     "metadata": {},
     "output_type": "execute_result"
    }
   ],
   "source": [
    "sample = '''We simply could not run our campaign without our fantastic fellows! This year, over forty fellows ahave been valuable members of our team, working to reach voters and help us come with new ideas for h <> <> for <ORG> \n",
    "  We simply could not run our campaign without our fantastic fellows! This year, over forty fellows have been valuable members of our team, working in all facets of the operation. This year, the campaign has leaned on them more to help us think through how to creatively reach young voters in the <DATE>- era. <> believes that it â€™s critical for our campaign to train the next generation of <GPE> â€™s political leaders, and in that spirit, our fellows had a front- row seat in learning about the operations of a serious political campaign. The team also provided the fellows with professional development training from experts, campaign staff, and of course <LAW> herself! \n",
    "  Our fellows took some time to write about why they chose to join our campaign. Read what three of them had to say below: \n",
    "*** \n",
    "  <> â€™s message spoke to me as I too felt passionately about the cost of healthcare. In 2017, my mom was diagnosed with end stage renal disease and began dialysis. The week before I joined the campaign, my mom â€™s doctors also found multiple cancerous soft tissue tumors. With the <ORG> still in place due to <> <> â€™s work, my mom continues to be insured, even though she has a preexisting condition. \n",
    "  <> <> \n",
    " <> <>, <> \n",
    " I made the decision to work for <> <> â€™s reelection campaign because, in a district where one neighbor has a <PERSON> sign in their yard and the next house has a <PRODUCT> flag flying, we ca nâ€™t have a representative who ostracizes those who do nâ€™t think exactly like them. We need someone who will give us the facts and explain why she feels that a certain decision is right for the district at large. Congresswoman <> made this promise to us as her constituents and has upheld it during a turbulent freshman term. \n",
    "  <> <> \n",
    " <> <>, <> \n",
    "  When I unexpectedly found myself spending yet another summer in the town that I grew up in, I knew that I had to do things differently and really find meaning and purpose this year. After deciding that I wanted to spend my time and energy working in politics I knew there was only one campaign and candidate that truly embodied my vision for <GPE> and <GPE>. Congresswoman <> is so amazing to work for because she is a different type of leader who exists to serve her constituents whether they agree with everything she does or not. In the time I â€™ve spent as a fellow on the team this summer I â€™ve been able to see in action a true <NORP> <NORP> who prioritizes organized labor and the equality of all people. The zoom calls, events, and phone banks never really feel like work but more like an opportunity to be responsible for even just a little part of the re - election effort. The other fellows and I are so appreciative to get this opportunity to work for someone who chooses country over party, tangible change over rhetoric, and her district over corporate PACs. \n",
    "  <> <> \n",
    " <> <>, <> \n",
    "  Thanks for reading, and thanks for all of your support. \n",
    "  <> <> \n",
    " contribute \n",
    " About <> \n",
    "  <> <> proudly represents <GPE> â€™s 8th district in <ORG>. Keep up with <PRODUCT> and the latest from the campaign trail on <> and   <>. \n",
    " [[ URL <>]] \n",
    "  <> <> \n",
    "  Paid for by <> <> for <ORG> \n",
    "  This email was sent to[[ EMAIL_REDACTED]] Click here to unsubscrib'''\n",
    "predict(parameters, sample, frequent10_words_list)"
   ]
  },
  {
   "cell_type": "markdown",
   "id": "7a02ddb5-76f7-4419-ba73-1de9e283ebac",
   "metadata": {},
   "source": [
    "# generate csv to kaggle"
   ]
  },
  {
   "cell_type": "code",
   "execution_count": null,
   "id": "e97b4a36-0111-48dd-93fa-8c1831fb7638",
   "metadata": {},
   "outputs": [],
   "source": [
    "# generate csv to kaggle\n",
    "# test_data = pd.read_csv('test.csv')\n",
    "# test_data['email_text'] = test_data['email_text'].apply(better_tokenize)\n",
    "# test_term_document_matrix = dok_matrix((len(test_data), len(frequent10_words_list)), dtype=np.float32)\n",
    "# row_index = 0\n",
    "# for _list in test_data['email_text']:\n",
    "#     row_counter = Counter()\n",
    "#     for word in _list:\n",
    "#         if word in frequent10_words_list:\n",
    "#             row_counter[word] += 1\n",
    "#     for word, count in row_counter.items():\n",
    "#         test_term_document_matrix[row_index, frequent10_words_list.index(word)] = count\n",
    "#     row_index += 1\n",
    "# bias_column = dok_matrix([[1] for i in range(len(test_data))])\n",
    "# display(bias_column.shape)\n",
    "# display(test_term_document_matrix.shape)\n",
    "# test_term_document_matrix = test_term_document_matrix.asformat('csr')"
   ]
  },
  {
   "cell_type": "code",
   "execution_count": null,
   "id": "6a5749da-444c-4221-9404-c13595509561",
   "metadata": {},
   "outputs": [],
   "source": [
    "# generate csv to kaggle\n",
    "# test_term_document_matrix = test_term_document_matrix.asformat('csr')\n",
    "# scipy.sparse.save_npz('test_matrix.npz', test_term_document_matrix)\n",
    "# test_term_document_matrix = scipy.sparse.hstack([test_term_document_matrix, bias_column], \"csr\")\n",
    "# display(test_term_document_matrix.shape)"
   ]
  },
  {
   "cell_type": "code",
   "execution_count": null,
   "id": "cf0a8ec8-896b-4cb8-ac5a-a08b3ff399f5",
   "metadata": {},
   "outputs": [],
   "source": [
    "# generate csv to kaggle\n",
    "# x_test = test_term_document_matrix\n",
    "# parameters = np.loadtxt(\"./parameters_30000.txt\")\n",
    "# out_data = np.around(1/(1+ np.exp(-test_term_document_matrix.dot(parameters)))).tolist()\n",
    "# party_id = pd.Series(out_data)\n",
    "# test_data = test_data.drop(columns=['email_text'])\n",
    "# party_name = party_id.apply(get_party_name)\n",
    "# test_data['party_affiliation'] = party_name\n",
    "# test_data.to_csv('./barebone_test.csv', index=False)"
   ]
  },
  {
   "cell_type": "markdown",
   "id": "e7066eb0-ab49-4e22-aeb9-7f948bc091e0",
   "metadata": {},
   "source": [
    "Pytorch"
   ]
  },
  {
   "cell_type": "code",
   "execution_count": 18,
   "id": "abf1269b-cc89-453e-a455-82aefd95bb24",
   "metadata": {},
   "outputs": [],
   "source": [
    "def to_sparse_tensor(matrix):\n",
    "    matrix = matrix.tocoo()\n",
    "    return torch.sparse_coo_tensor([matrix.row, matrix.col], matrix.data, size=matrix.shape).to(torch.float)"
   ]
  },
  {
   "cell_type": "code",
   "execution_count": 19,
   "id": "b565fb7f-bca5-47c8-b74c-700fddc02723",
   "metadata": {},
   "outputs": [],
   "source": [
    "class LogisticRegression(nn.Module):\n",
    "    def __init__(self, input_dim, output_dim):\n",
    "        super(LogisticRegression, self).__init__()\n",
    "        self.linear = nn.Linear(input_dim, output_dim)\n",
    "\n",
    "    def forward(self, x):\n",
    "        y = torch.sigmoid(self.linear(x))\n",
    "        return y"
   ]
  },
  {
   "cell_type": "code",
   "execution_count": 20,
   "id": "f465840e-80b3-4497-a1a8-e63edd6ed234",
   "metadata": {},
   "outputs": [],
   "source": [
    "training_term_document_matrix = scipy.sparse.load_npz('training_matrix.npz')\n",
    "train_data = pd.read_csv('train.csv')\n",
    "train_data['party_affiliation'] = train_data['party_affiliation'].apply(get_party_id)\n",
    "training_y_truth = train_data['party_affiliation'].to_numpy()\n",
    "validation_term_document_matrix = scipy.sparse.load_npz('dev_matrix.npz')\n",
    "validation_data = pd.read_csv('dev.csv')\n",
    "validation_data['party_affiliation'] = validation_data['party_affiliation'].apply(get_party_id)\n",
    "validation_y_truth = validation_data['party_affiliation'].to_numpy()"
   ]
  },
  {
   "cell_type": "code",
   "execution_count": 21,
   "id": "084eefe8-1228-4f3d-9182-73d36df242c9",
   "metadata": {},
   "outputs": [
    {
     "name": "stderr",
     "output_type": "stream",
     "text": [
      "C:\\Users\\fangz\\AppData\\Local\\Temp/ipykernel_12556/264492334.py:3: UserWarning: Creating a tensor from a list of numpy.ndarrays is extremely slow. Please consider converting the list to a single numpy.ndarray with numpy.array() before converting to a tensor. (Triggered internally at  ..\\torch\\csrc\\utils\\tensor_new.cpp:201.)\n",
      "  return torch.sparse_coo_tensor([matrix.row, matrix.col], matrix.data, size=matrix.shape).to(torch.float)\n",
      "Training Epochs:  10%|██████▏                                                       | 100/1000 [00:56<08:41,  1.73it/s]"
     ]
    },
    {
     "name": "stdout",
     "output_type": "stream",
     "text": [
      "Iteration: 100. \n",
      "Test - Loss: 0.637696385383606. Accuracy: 76.225\n",
      "Train -  Loss: 0.4344722032546997. Accuracy: 85.40309005150085\n",
      "\n",
      "F1-score: 0.6123114553607828\n"
     ]
    },
    {
     "name": "stderr",
     "output_type": "stream",
     "text": [
      "Training Epochs:  20%|████████████▍                                                 | 200/1000 [01:51<07:47,  1.71it/s]"
     ]
    },
    {
     "name": "stdout",
     "output_type": "stream",
     "text": [
      "Iteration: 200. \n",
      "Test - Loss: 0.29923155903816223. Accuracy: 87.845\n",
      "Train -  Loss: 0.41195815801620483. Accuracy: 87.1864531075518\n",
      "\n",
      "F1-score: 0.7475334925745145\n"
     ]
    },
    {
     "name": "stderr",
     "output_type": "stream",
     "text": [
      "Training Epochs:  30%|██████████████████▌                                           | 300/1000 [02:46<06:31,  1.79it/s]"
     ]
    },
    {
     "name": "stdout",
     "output_type": "stream",
     "text": [
      "Iteration: 300. \n",
      "Test - Loss: 0.19893211126327515. Accuracy: 91.375\n",
      "Train -  Loss: 0.22856400907039642. Accuracy: 91.28485474757913\n",
      "\n",
      "F1-score: 0.8043995917904524\n"
     ]
    },
    {
     "name": "stderr",
     "output_type": "stream",
     "text": [
      "Training Epochs:  40%|████████████████████████▊                                     | 400/1000 [03:40<05:35,  1.79it/s]"
     ]
    },
    {
     "name": "stdout",
     "output_type": "stream",
     "text": [
      "Iteration: 400. \n",
      "Test - Loss: 0.17264778912067413. Accuracy: 92.575\n",
      "Train -  Loss: 0.18853284418582916. Accuracy: 92.46654110901848\n",
      "\n",
      "F1-score: 0.8263767099263416\n"
     ]
    },
    {
     "name": "stderr",
     "output_type": "stream",
     "text": [
      "Training Epochs:  50%|███████████████████████████████                               | 500/1000 [04:36<04:54,  1.70it/s]"
     ]
    },
    {
     "name": "stdout",
     "output_type": "stream",
     "text": [
      "Iteration: 500. \n",
      "Test - Loss: 0.15292011201381683. Accuracy: 93.505\n",
      "Train -  Loss: 0.15920813381671906. Accuracy: 93.42822380373006\n",
      "\n",
      "F1-score: 0.843701118998917\n"
     ]
    },
    {
     "name": "stderr",
     "output_type": "stream",
     "text": [
      "Training Epochs:  60%|█████████████████████████████████████▏                        | 600/1000 [05:32<03:54,  1.71it/s]"
     ]
    },
    {
     "name": "stdout",
     "output_type": "stream",
     "text": [
      "Iteration: 600. \n",
      "Test - Loss: 0.14239971339702606. Accuracy: 94.125\n",
      "Train -  Loss: 0.14512361586093903. Accuracy: 94.03990066501109\n",
      "\n",
      "F1-score: 0.8563394057953294\n"
     ]
    },
    {
     "name": "stderr",
     "output_type": "stream",
     "text": [
      "Training Epochs:  70%|███████████████████████████████████████████▍                  | 700/1000 [06:27<02:58,  1.68it/s]"
     ]
    },
    {
     "name": "stdout",
     "output_type": "stream",
     "text": [
      "Iteration: 700. \n",
      "Test - Loss: 0.1342218816280365. Accuracy: 94.62\n",
      "Train -  Loss: 0.13451212644577026. Accuracy: 94.45157419290321\n",
      "\n",
      "F1-score: 0.8662689535172757\n"
     ]
    },
    {
     "name": "stderr",
     "output_type": "stream",
     "text": [
      "Training Epochs:  80%|█████████████████████████████████████████████████▌            | 800/1000 [07:23<01:57,  1.71it/s]"
     ]
    },
    {
     "name": "stdout",
     "output_type": "stream",
     "text": [
      "Iteration: 800. \n",
      "Test - Loss: 0.12543311715126038. Accuracy: 94.905\n",
      "Train -  Loss: 0.12360209971666336. Accuracy: 95.031583859731\n",
      "\n",
      "F1-score: 0.8700420864685626\n"
     ]
    },
    {
     "name": "stderr",
     "output_type": "stream",
     "text": [
      "Training Epochs:  90%|███████████████████████████████████████████████████████▊      | 900/1000 [08:18<00:54,  1.82it/s]"
     ]
    },
    {
     "name": "stdout",
     "output_type": "stream",
     "text": [
      "Iteration: 900. \n",
      "Test - Loss: 0.12006638199090958. Accuracy: 95.09\n",
      "Train -  Loss: 0.11749069392681122. Accuracy: 95.33825563759396\n",
      "\n",
      "F1-score: 0.8714996074326092\n"
     ]
    },
    {
     "name": "stderr",
     "output_type": "stream",
     "text": [
      "Training Epochs: 100%|█████████████████████████████████████████████████████████████| 1000/1000 [09:12<00:00,  1.81it/s]"
     ]
    },
    {
     "name": "stdout",
     "output_type": "stream",
     "text": [
      "Iteration: 1000. \n",
      "Test - Loss: 0.11762472242116928. Accuracy: 95.235\n",
      "Train -  Loss: 0.11475808918476105. Accuracy: 95.49492491541525\n",
      "\n",
      "F1-score: 0.8743572841133816\n"
     ]
    },
    {
     "name": "stderr",
     "output_type": "stream",
     "text": [
      "\n"
     ]
    }
   ],
   "source": [
    "# the accuracy calculate part refers to \n",
    "# https://towardsdatascience.com/logistic-regression-with-pytorch-3c8bbea594be by Denny Loevlie\n",
    "epochs = 1000\n",
    "learning_rate = 5e-2\n",
    "input_dim = training_term_document_matrix.shape[1]\n",
    "output_dim = 1\n",
    "model = LogisticRegression(input_dim, output_dim)\n",
    "loss = nn.BCELoss()\n",
    "optimizer = torch.optim.SGD(model.parameters(), lr=learning_rate)\n",
    "x_training = to_sparse_tensor(training_term_document_matrix)\n",
    "y_training = torch.Tensor(training_y_truth)\n",
    "x_test = to_sparse_tensor(validation_term_document_matrix)\n",
    "y_test = torch.Tensor(validation_y_truth)\n",
    "losses = []\n",
    "losses_test = []\n",
    "Iterations = []\n",
    "f1_scores_test = []\n",
    "iter = 0\n",
    "for epoch in tqdm(range(int(epochs)),desc='Training Epochs'):\n",
    "    x = x_training\n",
    "    labels = y_training\n",
    "    optimizer.zero_grad()\n",
    "    outputs = model(x)\n",
    "    output = loss(torch.squeeze(outputs), labels)\n",
    "    output.backward()\n",
    "    optimizer.step()\n",
    "    iter+=1\n",
    "    if iter% 100==0:\n",
    "        # calculate Accuracy\n",
    "        with torch.no_grad():\n",
    "            # Calculating the loss and accuracy for the test dataset\n",
    "            correct_test = 0\n",
    "            total_test = 0\n",
    "            outputs_test = torch.squeeze(model(x_test))\n",
    "            loss_test = loss(outputs_test, y_test)\n",
    "            \n",
    "            predicted_test = outputs_test.round().detach().numpy()\n",
    "            total_test += y_test.size(0)\n",
    "            correct_test += np.sum(predicted_test == y_test.detach().numpy())\n",
    "            # display(predicted_test.shape)\n",
    "            # display(y_test.detach().shape)\n",
    "            accuracy_test = 100 * correct_test/total_test\n",
    "            losses_test.append(loss_test.item())\n",
    "            \n",
    "            # Calculating the loss and accuracy for the train dataset\n",
    "            total = 0\n",
    "            correct = 0\n",
    "            total += y_training.size(0)\n",
    "            correct += np.sum(torch.squeeze(outputs).round().detach().numpy() == y_training.detach().numpy())\n",
    "            accuracy = 100 * correct/total\n",
    "            losses.append(output.item())\n",
    "            Iterations.append(iter)\n",
    "            test_f1_score = f1_score(y_test.detach().numpy(), predicted_test)\n",
    "            f1_scores_test.append(test_f1_score)\n",
    "            \n",
    "            print(f\"Iteration: {iter}. \\nTest - Loss: {loss_test.item()}. Accuracy: {accuracy_test}\")\n",
    "            print(f\"Train -  Loss: {output.item()}. Accuracy: {accuracy}\\n\")\n",
    "            print(f\"F1-score: {test_f1_score}\")\n",
    "\n"
   ]
  },
  {
   "cell_type": "code",
   "execution_count": 23,
   "id": "7b66cd5c-8bc9-4a43-9300-b75c3fda0f26",
   "metadata": {},
   "outputs": [
    {
     "data": {
      "image/png": "[encoded data removed]",
      "text/plain": [
       "<Figure size 1008x432 with 1 Axes>"
      ]
     },
     "metadata": {
      "needs_background": "light"
     },
     "output_type": "display_data"
    }
   ],
   "source": [
    "x_axis = [iter for iter in range(1, len(losses) + 1)]\n",
    "plt.figure(figsize=(14,6))\n",
    "plt.title('Loss function')\n",
    "plt.xticks(x_axis)\n",
    "plt.xlabel('epoch iteration')\n",
    "plt.ylabel('Loss')\n",
    "plt.plot(x_axis, losses, marker='o')\n",
    "plt.tight_layout()"
   ]
  },
  {
   "cell_type": "code",
   "execution_count": 24,
   "id": "4d7bdcf6-f375-4775-9a42-9ca2f9c86511",
   "metadata": {},
   "outputs": [
    {
     "data": {
      "image/png": "[encoded data removed]",
      "text/plain": [
       "<Figure size 1008x432 with 1 Axes>"
      ]
     },
     "metadata": {
      "needs_background": "light"
     },
     "output_type": "display_data"
    }
   ],
   "source": [
    "plt.figure(figsize=(14,6))\n",
    "plt.title('f1_score')\n",
    "plt.xticks(x_axis)\n",
    "plt.xlabel('epoch iteration')\n",
    "plt.ylabel('Loss')\n",
    "plt.plot(x_axis, f1_scores_test, marker='o')\n",
    "plt.tight_layout()"
   ]
  }
 ],
 "metadata": {
  "kernelspec": {
   "display_name": "Python 3 (ipykernel)",
   "language": "python",
   "name": "python3"
  },
  "language_info": {
   "codemirror_mode": {
    "name": "ipython",
    "version": 3
   },
   "file_extension": ".py",
   "mimetype": "text/x-python",
   "name": "python",
   "nbconvert_exporter": "python",
   "pygments_lexer": "ipython3",
   "version": "3.9.7"
  }
 },
 "nbformat": 4,
 "nbformat_minor": 5
}
